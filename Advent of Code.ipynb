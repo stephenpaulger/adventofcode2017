{
 "cells": [
  {
   "cell_type": "markdown",
   "metadata": {},
   "source": [
    "# December 1st"
   ]
  },
  {
   "cell_type": "code",
   "execution_count": 1,
   "metadata": {},
   "outputs": [],
   "source": [
    "examples = (\n",
    "    (1122, 3),\n",
    "    (1111, 4),\n",
    "    (1234, 0),\n",
    "    (91212129, 9)\n",
    ")"
   ]
  },
  {
   "cell_type": "code",
   "execution_count": 2,
   "metadata": {},
   "outputs": [],
   "source": [
    "def get_dups(si, step=1):\n",
    "    for n in range(len(si)):\n",
    "        a, b = si[n], si[(n+step)%len(si)]\n",
    "        if a == b:\n",
    "            yield int(a)"
   ]
  },
  {
   "cell_type": "code",
   "execution_count": 3,
   "metadata": {},
   "outputs": [
    {
     "name": "stdout",
     "output_type": "stream",
     "text": [
      ".\n",
      ".\n",
      ".\n",
      ".\n"
     ]
    }
   ],
   "source": [
    "for in_num, out in examples:\n",
    "    if sum(get_dups(str(in_num))) == out:\n",
    "        print(\".\")"
   ]
  },
  {
   "cell_type": "code",
   "execution_count": 4,
   "metadata": {},
   "outputs": [
    {
     "data": {
      "text/plain": [
       "1044"
      ]
     },
     "execution_count": 4,
     "metadata": {},
     "output_type": "execute_result"
    }
   ],
   "source": [
    "in_num = \"111831362354551173134957758417849716877188716338227121869992652972154651632296676464285261171625892888598738721925357479249486886375279741651224686642647267979445939836673253446489428761486828844713816198414852769942459766921928735591892723619845983117283575762694758223956262583556675379533479458964152461973321432768858165818549484229241869657725166769662249574889435227698271439423511175653875622976121749344756734658248245212273242115488961818719828258936653236351924292251821352389471971641957941593141159982696396228218461855752555358856127582128823657548151545741663495182446281491763249374581774426225822474112338745629194213976328762985884127324443984163571711941113986826168921187567861288268744663142867866165546795621466134333541274633769865956692539151971953651886381195877638919355216642731848659649263217258599456646635412623461138792945854536154976732167439355548965778313264824237176152196614333748919711422188148687299757751955297978137561935963366682742334867854892581388263132968999722366495346854828316842352829827989419393594846893842746149235681921951476132585199265366836257322121681471877187847219712325933714149151568922456111149524629995933156924418468567649494728828858254296824372929211977446729691143995333874752448315632185286348657293395339475256796591968717487615896959976413637422536563273537972841783386358764761364989261322293887361558128521915542454126546182855197637753115352541578972298715522386683914777967729562229395936593272269661295295223113186683594678533511783187422193626234573849881185849626389774394351115527451886962844431947188429195191724662982411619815811652741733744864411666766133951954595344837179635668177845937578575117168875754181523584442699384167111317875138179567939174589917894597492816476662186746837552978671142265114426813792549412632291424594239391853358914643327549192165466628737614581458189732579814919468795493415762517372227862614224911844744711698557324454211123571327224554259626961741919243229688684838813912553397698937237114287944446722919198743189848428399356842626198635297851274879128322358195585284984366515428245928111112613638341345371\"\n",
    "sum(get_dups(in_num))"
   ]
  },
  {
   "cell_type": "markdown",
   "metadata": {},
   "source": [
    "In Python 3 we have to specifically use `//` as indexes must be integers and `4 / 2` gives `2.0` in Python 3"
   ]
  },
  {
   "cell_type": "code",
   "execution_count": 5,
   "metadata": {},
   "outputs": [],
   "source": [
    "def get_halfway(si):\n",
    "    return get_dups(si, len(si)//2)"
   ]
  },
  {
   "cell_type": "code",
   "execution_count": 6,
   "metadata": {},
   "outputs": [
    {
     "data": {
      "text/plain": [
       "1054"
      ]
     },
     "execution_count": 6,
     "metadata": {},
     "output_type": "execute_result"
    }
   ],
   "source": [
    "sum(get_halfway(in_num))"
   ]
  },
  {
   "cell_type": "markdown",
   "metadata": {},
   "source": [
    "# December 2nd"
   ]
  },
  {
   "cell_type": "code",
   "execution_count": 1,
   "metadata": {},
   "outputs": [],
   "source": [
    "example = \"\"\"5 1 9 5\n",
    "7 5 3\n",
    "2 4 6 8\"\"\""
   ]
  },
  {
   "cell_type": "code",
   "execution_count": 42,
   "metadata": {},
   "outputs": [],
   "source": [
    "def checksum(spreadsheet): \n",
    "    return sum([max(row) - min(row) for row in spreadsheet])"
   ]
  },
  {
   "cell_type": "code",
   "execution_count": 43,
   "metadata": {},
   "outputs": [],
   "source": [
    "def spreadsheet(puzzle):\n",
    "    return [[int(val) for val in row.split()] for row in puzzle.splitlines()]"
   ]
  },
  {
   "cell_type": "code",
   "execution_count": 44,
   "metadata": {},
   "outputs": [
    {
     "data": {
      "text/plain": [
       "18"
      ]
     },
     "execution_count": 44,
     "metadata": {},
     "output_type": "execute_result"
    }
   ],
   "source": [
    "checksum(spreadsheet(example))"
   ]
  },
  {
   "cell_type": "code",
   "execution_count": 16,
   "metadata": {},
   "outputs": [],
   "source": [
    "puzzle = \"\"\"4168\t3925\t858\t2203\t440\t185\t2886\t160\t1811\t4272\t4333\t2180\t174\t157\t361\t1555\n",
    "150\t111\t188\t130\t98\t673\t408\t632\t771\t585\t191\t92\t622\t158\t537\t142\n",
    "5785\t5174\t1304\t3369\t3891\t131\t141\t5781\t5543\t4919\t478\t6585\t116\t520\t673\t112\n",
    "5900\t173\t5711\t236\t2920\t177\t3585\t4735\t2135\t2122\t5209\t265\t5889\t233\t4639\t5572\n",
    "861\t511\t907\t138\t981\t168\t889\t986\t980\t471\t107\t130\t596\t744\t251\t123\n",
    "2196\t188\t1245\t145\t1669\t2444\t656\t234\t1852\t610\t503\t2180\t551\t2241\t643\t175\n",
    "2051\t1518\t1744\t233\t2155\t139\t658\t159\t1178\t821\t167\t546\t126\t974\t136\t1946\n",
    "161\t1438\t3317\t4996\t4336\t2170\t130\t4987\t3323\t178\t174\t4830\t3737\t4611\t2655\t2743\n",
    "3990\t190\t192\t1630\t1623\t203\t1139\t2207\t3994\t1693\t1468\t1829\t164\t4391\t3867\t3036\n",
    "116\t1668\t1778\t69\t99\t761\t201\t2013\t837\t1225\t419\t120\t1920\t1950\t121\t1831\n",
    "107\t1006\t92\t807\t1880\t1420\t36\t1819\t1039\t1987\t114\t2028\t1771\t25\t85\t430\n",
    "5295\t1204\t242\t479\t273\t2868\t3453\t6095\t5324\t6047\t5143\t293\t3288\t3037\t184\t987\n",
    "295\t1988\t197\t2120\t199\t1856\t181\t232\t564\t1914\t1691\t210\t1527\t1731\t1575\t31\n",
    "191\t53\t714\t745\t89\t899\t854\t679\t45\t81\t726\t801\t72\t338\t95\t417\n",
    "219\t3933\t6626\t2137\t3222\t1637\t5312\t238\t5895\t222\t154\t6649\t169\t6438\t3435\t4183\n",
    "37\t1069\t166\t1037\t172\t258\t1071\t90\t497\t1219\t145\t1206\t143\t153\t1067\t510\"\"\""
   ]
  },
  {
   "cell_type": "code",
   "execution_count": 46,
   "metadata": {},
   "outputs": [
    {
     "data": {
      "text/plain": [
       "51833"
      ]
     },
     "execution_count": 46,
     "metadata": {},
     "output_type": "execute_result"
    }
   ],
   "source": [
    "spr_puzzle = spreadsheet(puzzle)\n",
    "checksum(spr_puzzle)"
   ]
  },
  {
   "cell_type": "code",
   "execution_count": 24,
   "metadata": {},
   "outputs": [],
   "source": [
    "from itertools import permutations"
   ]
  },
  {
   "cell_type": "code",
   "execution_count": 37,
   "metadata": {},
   "outputs": [],
   "source": [
    "def rowval(row):\n",
    "    a,b = next(filter(lambda x: x[0]%x[1]==0, permutations(row, 2)))\n",
    "    return a // b"
   ]
  },
  {
   "cell_type": "code",
   "execution_count": 48,
   "metadata": {},
   "outputs": [
    {
     "data": {
      "text/plain": [
       "288"
      ]
     },
     "execution_count": 48,
     "metadata": {},
     "output_type": "execute_result"
    }
   ],
   "source": [
    "sum(rowval(row) for row in spr_puzzle)"
   ]
  },
  {
   "cell_type": "markdown",
   "metadata": {},
   "source": [
    "# December 4th"
   ]
  },
  {
   "cell_type": "code",
   "execution_count": 17,
   "metadata": {},
   "outputs": [
    {
     "data": {
      "text/plain": [
       "337"
      ]
     },
     "execution_count": 17,
     "metadata": {},
     "output_type": "execute_result"
    }
   ],
   "source": [
    "data_file = \"day4input.txt\"\n",
    "\n",
    "def valid_passphrase(pass_phrase):\n",
    "    words = pass_phrase.split()\n",
    "    return len(words) == len(set(words))\n",
    "\n",
    "len(list(filter(valid_passphrase, open(data_file))))"
   ]
  },
  {
   "cell_type": "code",
   "execution_count": 26,
   "metadata": {},
   "outputs": [],
   "source": [
    "def sort_word(word):\n",
    "    sword = list(word)\n",
    "    sword.sort()\n",
    "    return \"\".join(sword)\n",
    "\n",
    "def valid_passphrase2(pass_phrase):\n",
    "    words = pass_phrase.split()\n",
    "    return len(words) == len(set(sort_word(word) for word in words))"
   ]
  },
  {
   "cell_type": "code",
   "execution_count": 27,
   "metadata": {},
   "outputs": [
    {
     "data": {
      "text/plain": [
       "231"
      ]
     },
     "execution_count": 27,
     "metadata": {},
     "output_type": "execute_result"
    }
   ],
   "source": [
    "len(list(filter(valid_passphrase2, open(data_file))))"
   ]
  }
 ],
 "metadata": {
  "kernelspec": {
   "display_name": "Python 3",
   "language": "python",
   "name": "python3"
  },
  "language_info": {
   "codemirror_mode": {
    "name": "ipython",
    "version": 3
   },
   "file_extension": ".py",
   "mimetype": "text/x-python",
   "name": "python",
   "nbconvert_exporter": "python",
   "pygments_lexer": "ipython3",
   "version": "3.6.3"
  }
 },
 "nbformat": 4,
 "nbformat_minor": 2
}
